{
 "cells": [
  {
   "cell_type": "markdown",
   "metadata": {},
   "source": [
    "### Assignment 1: Create your own calculator!"
   ]
  },
  {
   "cell_type": "markdown",
   "metadata": {},
   "source": [
    "Before we actually code in Python, please write out how you might build this with code in plain English (pseudocoding!). Pseudocode is an important part of programming and is used in planning an algorithm with sketching out the structure of the program before the actual coding takes place."
   ]
  },
  {
   "cell_type": "code",
   "execution_count": 2,
   "metadata": {},
   "outputs": [],
   "source": [
    "# example psuedocode:\n",
    "# 1. A calculator will take in numbers that we want to use the operators on. So we want store user input\n",
    "# in variables. The first variable will store the first number, the second one will store the second number, \n",
    "# and the third will store the mathematical operator the user wants to perform on these numbers."
   ]
  },
  {
   "cell_type": "markdown",
   "metadata": {},
   "source": [
    "__Using conditionals, operators, and functions, try creating a working calculator! We will go over the solution next week.__\n",
    "\n",
    "_Things to consider:_\n",
    "\n",
    "<li>You may want to ask for user input: use the Python input() method. If you're asking for numbers, you may need to change the input value from a string to a number. Consider using int(x) and float(x) to do so.</li>\n",
    "<li>Use the operators with the conditionals we learned in class! Ex) if user_input == '*': print(x * y) </li>\n",
    "<li>Use if...elif conditionals!</li>\n",
    "<li>Before you put your code into a function for reusability purposes, hard code first to make sure your logic is working</li>\n",
    "<li>Keep it simple and use the four operators we went over in class: +, -, *, /</li>"
   ]
  },
  {
   "cell_type": "code",
   "execution_count": 12,
   "metadata": {},
   "outputs": [],
   "source": [
    "# Create a simple calculator without if statement. \n",
    "# First, I'll use imput () to ask user to type numbers to be used with basic mathematical symbols\n",
    "# Second, I'll use string formaters to show what mathematical symbol is being use in the calculation\n",
    "# Third, I'll have the same result with a different approach using elif statement"
   ]
  },
  {
   "cell_type": "code",
   "execution_count": 10,
   "metadata": {},
   "outputs": [
    {
     "name": "stdout",
     "output_type": "stream",
     "text": [
      "Type first number: 3\n",
      "Type second number: 2\n"
     ]
    }
   ],
   "source": [
    "# code down here: \n",
    "x = int(input('Type first number: '))\n",
    "y = int(input('Type second number: '))"
   ]
  },
  {
   "cell_type": "code",
   "execution_count": 11,
   "metadata": {},
   "outputs": [
    {
     "name": "stdout",
     "output_type": "stream",
     "text": [
      "3 + 2 = \n",
      "5\n",
      "3 - 2 = \n",
      "1\n",
      "2 * 3 = \n",
      "6\n",
      "2 / 3 = \n",
      "0.6666666666666666\n"
     ]
    }
   ],
   "source": [
    "#showing the mathematical calculation \n",
    "# Addition\n",
    "print('{} + {} = '.format(x, y))\n",
    "print(x + y)\n",
    "\n",
    "# Subtraction\n",
    "print('{} - {} = '.format(x, y))\n",
    "print(x - y)\n",
    "\n",
    "# Multiplication\n",
    "print('{} * {} = '.format(y, x))\n",
    "print(y * x)\n",
    "\n",
    "# Division\n",
    "print('{} / {} = '.format(y, x))\n",
    "print(y / x)"
   ]
  },
  {
   "cell_type": "code",
   "execution_count": 14,
   "metadata": {},
   "outputs": [
    {
     "name": "stdout",
     "output_type": "stream",
     "text": [
      "\n",
      "Please type in the calculator the operation you want to do:\n",
      "+ for addition\n",
      "- for subtraction\n",
      "* for multiplication\n",
      "/ for division\n",
      "/\n",
      "Enter your first number: 4\n",
      "Enter your second number: 5\n",
      "5 / 4 = \n",
      "1.25\n"
     ]
    }
   ],
   "source": [
    "calculation = input('''\n",
    "Please type in the calculator the operation you want to do:\n",
    "+ for addition\n",
    "- for subtraction\n",
    "* for multiplication\n",
    "/ for division\n",
    "''')\n",
    "a = int(input('Enter your first number: '))\n",
    "b = int(input('Enter your second number: '))\n",
    "\n",
    "if calculation == '+':\n",
    "    print('{} + {} = '.format(a, b))\n",
    "    print(a + b)\n",
    "\n",
    "elif calculation == '-':\n",
    "    print('{} - {} = '.format(c, b))\n",
    "    print(a - b)\n",
    "\n",
    "elif calculation == '*':\n",
    "    print('{} * {} = '.format(b, a))\n",
    "    print(b * a)\n",
    "\n",
    "elif calculation == '/':\n",
    "    print('{} / {} = '.format(b, a))\n",
    "    print(b / a)\n",
    "\n",
    "else:\n",
    "    print('You typed wrong symbol, try again.')"
   ]
  },
  {
   "cell_type": "code",
   "execution_count": null,
   "metadata": {},
   "outputs": [],
   "source": []
  }
 ],
 "metadata": {
  "kernelspec": {
   "display_name": "Python 3",
   "language": "python",
   "name": "python3"
  },
  "language_info": {
   "codemirror_mode": {
    "name": "ipython",
    "version": 3
   },
   "file_extension": ".py",
   "mimetype": "text/x-python",
   "name": "python",
   "nbconvert_exporter": "python",
   "pygments_lexer": "ipython3",
   "version": "3.7.6"
  }
 },
 "nbformat": 4,
 "nbformat_minor": 4
}
